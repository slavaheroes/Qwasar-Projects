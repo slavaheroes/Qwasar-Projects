{
 "cells": [
  {
   "cell_type": "code",
   "execution_count": 30,
   "source": [
    "import sqlite3 as sql\n",
    "import csv\n",
    "\n",
    "class convert:\n",
    "    def sql_to_csv(name_file_sql, name_file_csv):\n",
    "        #connect to sql\n",
    "        connection = sql.connect(name_file_sql)\n",
    "        cursor = connection.cursor()\n",
    "\n",
    "        #find table name\n",
    "        cursor.execute(\"SELECT name FROM sqlite_master WHERE type='table'\")\n",
    "        table_name = cursor.fetchone()[0]\n",
    "\n",
    "        #find header\n",
    "        cursor.execute(\"SELECT * FROM \"+table_name)\n",
    "        header = []\n",
    "        for i in cursor.description:\n",
    "            header.append(i[0])\n",
    "        \n",
    "        #write to csv file\n",
    "        with open(name_file_csv, 'w') as file_csv:\n",
    "            writer = csv.writer(file_csv)\n",
    "            writer.writerow(header)\n",
    "            for i in cursor:\n",
    "                writer.writerow(i)\n",
    "    \n",
    "    def csv_to_sql(name_file_sql, name_file_csv):\n",
    "        #connect to sql\n",
    "        connection = sql.connect(name_file_sql)\n",
    "        cursor = connection.cursor()\n",
    "\n",
    "        #prepare table data\n",
    "        with open(name_file_csv, 'r') as file_csv:\n",
    "            reader = csv.reader(file_csv)\n",
    "            col_names = next(reader)\n",
    "            #ignore insufficient rows\n",
    "            to_db = to_db = [tuple(row) for row in reader if len(row)==len(col_names)]\n",
    "        \n",
    "        #create table\n",
    "        cursor.execute(\"create table if not exists Volcanos \" + str(tuple(col_names)) + \" ;\")\n",
    "\n",
    "        #insert values\n",
    "        cursor.executemany(\"insert into Volcanos \" + \" values (?, ?, ?, ?, ?, ?);\", to_db)\n",
    "\n",
    "        connection.commit()\n",
    "        connection.close()\n",
    "\n",
    "#name of submit files\n",
    "submit_file_csv = 'all_fault_lines.csv'\n",
    "submit_file_sql = 'list_volcanos.db'\n",
    "\n",
    "#name of source files\n",
    "name_file_sql = 'all_fault_line.db'\n",
    "name_file_csv = 'list_volcano.csv'\n",
    "\n",
    "#start convert functions\n",
    "convert.sql_to_csv(name_file_sql, submit_file_csv)\n",
    "\n",
    "convert.csv_to_sql(submit_file_sql, name_file_csv)"
   ],
   "outputs": [],
   "metadata": {}
  },
  {
   "cell_type": "code",
   "execution_count": 31,
   "source": [
    "conn = sql.connect('list_volcanos.db')\n",
    "c = conn.cursor()\n",
    "c.execute('select * from Volcanos limit 10')\n",
    "c.fetchall()"
   ],
   "outputs": [
    {
     "output_type": "error",
     "ename": "NameError",
     "evalue": "name 'sqlite3' is not defined",
     "traceback": [
      "\u001b[0;31m---------------------------------------------------------------------------\u001b[0m",
      "\u001b[0;31mNameError\u001b[0m                                 Traceback (most recent call last)",
      "\u001b[0;32m<ipython-input-31-c179bf97faab>\u001b[0m in \u001b[0;36m<module>\u001b[0;34m\u001b[0m\n\u001b[0;32m----> 1\u001b[0;31m \u001b[0mconn\u001b[0m \u001b[0;34m=\u001b[0m \u001b[0msqlite3\u001b[0m\u001b[0;34m.\u001b[0m\u001b[0mconnect\u001b[0m\u001b[0;34m(\u001b[0m\u001b[0;34m'list_volcanos.db'\u001b[0m\u001b[0;34m)\u001b[0m\u001b[0;34m\u001b[0m\u001b[0;34m\u001b[0m\u001b[0m\n\u001b[0m\u001b[1;32m      2\u001b[0m \u001b[0mc\u001b[0m \u001b[0;34m=\u001b[0m \u001b[0mconn\u001b[0m\u001b[0;34m.\u001b[0m\u001b[0mcursor\u001b[0m\u001b[0;34m(\u001b[0m\u001b[0;34m)\u001b[0m\u001b[0;34m\u001b[0m\u001b[0;34m\u001b[0m\u001b[0m\n\u001b[1;32m      3\u001b[0m \u001b[0mc\u001b[0m\u001b[0;34m.\u001b[0m\u001b[0mexecute\u001b[0m\u001b[0;34m(\u001b[0m\u001b[0;34m'select * from Volcanos limit 10'\u001b[0m\u001b[0;34m)\u001b[0m\u001b[0;34m\u001b[0m\u001b[0;34m\u001b[0m\u001b[0m\n\u001b[1;32m      4\u001b[0m \u001b[0mc\u001b[0m\u001b[0;34m.\u001b[0m\u001b[0mfetchall\u001b[0m\u001b[0;34m(\u001b[0m\u001b[0;34m)\u001b[0m\u001b[0;34m\u001b[0m\u001b[0;34m\u001b[0m\u001b[0m\n",
      "\u001b[0;31mNameError\u001b[0m: name 'sqlite3' is not defined"
     ]
    }
   ],
   "metadata": {}
  }
 ],
 "metadata": {
  "orig_nbformat": 4,
  "language_info": {
   "name": "python",
   "version": "3.8.5",
   "mimetype": "text/x-python",
   "codemirror_mode": {
    "name": "ipython",
    "version": 3
   },
   "pygments_lexer": "ipython3",
   "nbconvert_exporter": "python",
   "file_extension": ".py"
  },
  "kernelspec": {
   "name": "python3",
   "display_name": "Python 3.8.5 64-bit ('base': conda)"
  },
  "interpreter": {
   "hash": "acff4dd298a687c1fd5bb40cae5a90bd5e1d984e4de4bd70b9f3aab7caa94ee6"
  }
 },
 "nbformat": 4,
 "nbformat_minor": 2
}