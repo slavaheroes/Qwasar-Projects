{
 "cells": [
  {
   "cell_type": "code",
   "execution_count": 2,
   "id": "ca78d1a7",
   "metadata": {
    "id": "a060ca6e-c133-496b-ab9f-897bbe32ce15"
   },
   "outputs": [],
   "source": [
    "import requests\n",
    "\n",
    "def get_content(article_name):\n",
    "    response = requests.get(\n",
    "        'https://en.wikipedia.org/w/api.php',\n",
    "        params={\n",
    "            'action': 'query',\n",
    "            'format': 'json',\n",
    "            'titles': article_name,\n",
    "            'prop': 'extracts',\n",
    "            'exintro': True,\n",
    "            'explaintext': True,\n",
    "            'rvsection' : 0,\n",
    "            'rvprop' : 'content',\n",
    "        }).json()\n",
    "    \n",
    "    return response"
   ]
  },
  {
   "cell_type": "code",
   "execution_count": 3,
   "id": "22d49d5d",
   "metadata": {
    "colab": {
     "base_uri": "https://localhost:8080/"
    },
    "id": "75c08141-749f-44c0-aa2f-1a065b575b76",
    "outputId": "ce683440-3350-4baf-9708-070752bcd588"
   },
   "outputs": [
    {
     "name": "stdout",
     "output_type": "stream",
     "text": [
      "{'warnings': {'main': {'*': 'Unrecognized parameters: rvsection, rvprop.'}}, 'batchcomplete': '', 'query': {'normalized': [{'from': 'Ozone_layer', 'to': 'Ozone layer'}], 'pages': {'22834': {'pageid': 22834, 'ns': 0, 'title': 'Ozone layer', 'extract': 'The ozone layer or ozone shield is a region of Earth\\'s stratosphere that absorbs most of the Sun\\'s ultraviolet  radiation. It contains a high concentration of ozone (O3) in relation to other parts of the atmosphere, although still small in relation to other gases in the stratosphere. The ozone layer contains less than 10 parts per million of ozone, while the average ozone concentration in Earth\\'s atmosphere as a whole is about 0.3 parts per million. The ozone layer is mainly found in the lower portion of the stratosphere, from approximately 15 to 35 kilometers (9 to 22 mi) above Earth, although its thickness varies seasonally and geographically.The ozone layer was discovered in 1913 by the French physicists Charles Fabry and Henri Buisson. Measurements of the sun showed that the radiation sent out from its surface and reaching the ground on Earth is usually consistent with the spectrum of a black body with a temperature in the range of 5,500–6,000 K (5,230–5,730 °C), except that there was no radiation below a wavelength of about 310 nm at the ultraviolet end of the spectrum. It was deduced that the missing radiation was being absorbed by something in the atmosphere. Eventually the spectrum of the missing radiation was matched to only one known chemical, ozone. Its properties were explored in detail by the British meteorologist G. M. B. Dobson, who developed a simple spectrophotometer (the Dobsonmeter) that could be used to measure stratospheric ozone from the ground. Between 1928 and 1958, Dobson established a worldwide network of ozone monitoring stations, which continue to operate to this day. The \"Dobson unit\", a convenient measure of the amount of ozone overhead, is named in his honor.\\nThe ozone layer absorbs 97 to 99 percent of the Sun\\'s medium-frequency ultraviolet light (from about 200 nm to 315 nm wavelength), which otherwise would potentially damage exposed life forms near the surface.In 1976, atmospheric research revealed that the ozone layer was being depleted by chemicals released by industry, mainly chlorofluorocarbons (CFCs). Concerns that increased UV radiation due to ozone depletion threatened life on Earth, including increased skin cancer in humans and other ecological problems, led to bans on the chemicals, and the latest evidence is that ozone depletion has slowed or stopped. The United Nations General Assembly has designated September 16 as the International Day for the Preservation of the Ozone Layer.\\nVenus also has a thin ozone layer at an altitude of 100 kilometers above the planet\\'s surface.'}}}}\n"
     ]
    }
   ],
   "source": [
    "data = get_content('Ozone_layer')\n",
    "print(data)"
   ]
  },
  {
   "cell_type": "code",
   "execution_count": 4,
   "id": "b023062f",
   "metadata": {
    "id": "dd821947-e927-439d-af54-e55b6e1fbf2e"
   },
   "outputs": [],
   "source": [
    "def merge_contents(data):\n",
    "    res = next(iter(data['query']['pages'].values()))\n",
    "    return res['extract']"
   ]
  },
  {
   "cell_type": "code",
   "execution_count": 5,
   "id": "7a79c809",
   "metadata": {
    "colab": {
     "base_uri": "https://localhost:8080/"
    },
    "id": "54a77d76-448f-4cab-a78d-e98daff6d608",
    "outputId": "bb36fd43-852d-402d-c586-0f512e96b52f"
   },
   "outputs": [
    {
     "name": "stdout",
     "output_type": "stream",
     "text": [
      "The ozone layer or ozone shield is a region of Earth's stratosphere that absorbs most of the Sun's ultraviolet  radiation. It contains a high concentration of ozone (O3) in relation to other parts of the atmosphere, although still small in relation to other gases in the stratosphere. The ozone layer contains less than 10 parts per million of ozone, while the average ozone concentration in Earth's atmosphere as a whole is about 0.3 parts per million. The ozone layer is mainly found in the lower portion of the stratosphere, from approximately 15 to 35 kilometers (9 to 22 mi) above Earth, although its thickness varies seasonally and geographically.The ozone layer was discovered in 1913 by the French physicists Charles Fabry and Henri Buisson. Measurements of the sun showed that the radiation sent out from its surface and reaching the ground on Earth is usually consistent with the spectrum of a black body with a temperature in the range of 5,500–6,000 K (5,230–5,730 °C), except that there was no radiation below a wavelength of about 310 nm at the ultraviolet end of the spectrum. It was deduced that the missing radiation was being absorbed by something in the atmosphere. Eventually the spectrum of the missing radiation was matched to only one known chemical, ozone. Its properties were explored in detail by the British meteorologist G. M. B. Dobson, who developed a simple spectrophotometer (the Dobsonmeter) that could be used to measure stratospheric ozone from the ground. Between 1928 and 1958, Dobson established a worldwide network of ozone monitoring stations, which continue to operate to this day. The \"Dobson unit\", a convenient measure of the amount of ozone overhead, is named in his honor.\n",
      "The ozone layer absorbs 97 to 99 percent of the Sun's medium-frequency ultraviolet light (from about 200 nm to 315 nm wavelength), which otherwise would potentially damage exposed life forms near the surface.In 1976, atmospheric research revealed that the ozone layer was being depleted by chemicals released by industry, mainly chlorofluorocarbons (CFCs). Concerns that increased UV radiation due to ozone depletion threatened life on Earth, including increased skin cancer in humans and other ecological problems, led to bans on the chemicals, and the latest evidence is that ozone depletion has slowed or stopped. The United Nations General Assembly has designated September 16 as the International Day for the Preservation of the Ozone Layer.\n",
      "Venus also has a thin ozone layer at an altitude of 100 kilometers above the planet's surface.\n"
     ]
    }
   ],
   "source": [
    "merge_content = merge_contents(data)\n",
    "print(merge_content)"
   ]
  },
  {
   "cell_type": "code",
   "execution_count": 6,
   "id": "6cf70b57",
   "metadata": {
    "colab": {
     "base_uri": "https://localhost:8080/"
    },
    "id": "c87d5f32-a245-4954-a237-f009bb62c366",
    "outputId": "13dd3a42-b017-42b6-ee27-ca72b2d51b34"
   },
   "outputs": [
    {
     "name": "stdout",
     "output_type": "stream",
     "text": [
      "['The', 'ozone', 'layer', 'or', 'ozone', 'shield', 'is', 'a', 'region', 'of', \"Earth's\", 'stratosphere', 'that', 'absorbs', 'most', 'of', 'the', \"Sun's\", 'ultraviolet', 'radiation', 'It', 'contains', 'a', 'high', 'concentration', 'of', 'ozone', 'O3', 'in', 'relation', 'to', 'other', 'parts', 'of', 'the', 'atmosphere', 'although', 'still', 'small', 'in', 'relation', 'to', 'other', 'gases', 'in', 'the', 'stratosphere', 'The', 'ozone', 'layer', 'contains', 'less', 'than', '10', 'parts', 'per', 'million', 'of', 'ozone', 'while', 'the', 'average', 'ozone', 'concentration', 'in', \"Earth's\", 'atmosphere', 'as', 'a', 'whole', 'is', 'about', '0', '3', 'parts', 'per', 'million', 'The', 'ozone', 'layer', 'is', 'mainly', 'found', 'in', 'the', 'lower', 'portion', 'of', 'the', 'stratosphere', 'from', 'approximately', '15', 'to', '35', 'kilometers', '9', 'to', '22', 'mi', 'above', 'Earth', 'although', 'its', 'thickness', 'varies', 'seasonally', 'and', 'geographically', 'The', 'ozone', 'layer', 'was', 'discovered', 'in', '1913', 'by', 'the', 'French', 'physicists', 'Charles', 'Fabry', 'and', 'Henri', 'Buisson', 'Measurements', 'of', 'the', 'sun', 'showed', 'that', 'the', 'radiation', 'sent', 'out', 'from', 'its', 'surface', 'and', 'reaching', 'the', 'ground', 'on', 'Earth', 'is', 'usually', 'consistent', 'with', 'the', 'spectrum', 'of', 'a', 'black', 'body', 'with', 'a', 'temperature', 'in', 'the', 'range', 'of', '5', '500–6', '000', 'K', '5', '230–5', '730', '°C', 'except', 'that', 'there', 'was', 'no', 'radiation', 'below', 'a', 'wavelength', 'of', 'about', '310', 'nm', 'at', 'the', 'ultraviolet', 'end', 'of', 'the', 'spectrum', 'It', 'was', 'deduced', 'that', 'the', 'missing', 'radiation', 'was', 'being', 'absorbed', 'by', 'something', 'in', 'the', 'atmosphere', 'Eventually', 'the', 'spectrum', 'of', 'the', 'missing', 'radiation', 'was', 'matched', 'to', 'only', 'one', 'known', 'chemical', 'ozone', 'Its', 'properties', 'were', 'explored', 'in', 'detail', 'by', 'the', 'British', 'meteorologist', 'G', 'M', 'B', 'Dobson', 'who', 'developed', 'a', 'simple', 'spectrophotometer', 'the', 'Dobsonmeter', 'that', 'could', 'be', 'used', 'to', 'measure', 'stratospheric', 'ozone', 'from', 'the', 'ground', 'Between', '1928', 'and', '1958', 'Dobson', 'established', 'a', 'worldwide', 'network', 'of', 'ozone', 'monitoring', 'stations', 'which', 'continue', 'to', 'operate', 'to', 'this', 'day', 'The', '\"Dobson', 'unit\"', 'a', 'convenient', 'measure', 'of', 'the', 'amount', 'of', 'ozone', 'overhead', 'is', 'named', 'in', 'his', 'honor', 'The', 'ozone', 'layer', 'absorbs', '97', 'to', '99', 'percent', 'of', 'the', \"Sun's\", 'medium', 'frequency', 'ultraviolet', 'light', 'from', 'about', '200', 'nm', 'to', '315', 'nm', 'wavelength', 'which', 'otherwise', 'would', 'potentially', 'damage', 'exposed', 'life', 'forms', 'near', 'the', 'surface', 'In', '1976', 'atmospheric', 'research', 'revealed', 'that', 'the', 'ozone', 'layer', 'was', 'being', 'depleted', 'by', 'chemicals', 'released', 'by', 'industry', 'mainly', 'chlorofluorocarbons', 'CFCs', 'Concerns', 'that', 'increased', 'UV', 'radiation', 'due', 'to', 'ozone', 'depletion', 'threatened', 'life', 'on', 'Earth', 'including', 'increased', 'skin', 'cancer', 'in', 'humans', 'and', 'other', 'ecological', 'problems', 'led', 'to', 'bans', 'on', 'the', 'chemicals', 'and', 'the', 'latest', 'evidence', 'is', 'that', 'ozone', 'depletion', 'has', 'slowed', 'or', 'stopped', 'The', 'United', 'Nations', 'General', 'Assembly', 'has', 'designated', 'September', '16', 'as', 'the', 'International', 'Day', 'for', 'the', 'Preservation', 'of', 'the', 'Ozone', 'Layer', 'Venus', 'also', 'has', 'a', 'thin', 'ozone', 'layer', 'at', 'an', 'altitude', 'of', '100', 'kilometers', 'above', 'the', \"planet's\", 'surface']\n"
     ]
    }
   ],
   "source": [
    "import re\n",
    "\n",
    "def tokenize(content):\n",
    "    delimiters = ' ', '\\n', '-', '.', '(', ')', ','\n",
    "    regexPattern = '|'.join(map(re.escape, delimiters))\n",
    "    l = re.split(regexPattern, content)\n",
    "    return [token for token in l if token != '']\n",
    "\n",
    "collection = tokenize(merge_content)\n",
    "print(collection)"
   ]
  },
  {
   "cell_type": "code",
   "execution_count": 7,
   "id": "93ca3c3f",
   "metadata": {
    "colab": {
     "base_uri": "https://localhost:8080/"
    },
    "id": "AsRHocyXPoYo",
    "outputId": "b9321675-5f86-47e3-e2d8-54ebe8ec00a8"
   },
   "outputs": [],
   "source": [
    "def lower_collection(collection):\n",
    "    for i in range(len(collection)):\n",
    "        collection[i] = collection[i].lower()\n",
    "\n",
    "lower_collection(collection)"
   ]
  },
  {
   "cell_type": "code",
   "execution_count": 10,
   "id": "defa21bc",
   "metadata": {
    "colab": {
     "base_uri": "https://localhost:8080/"
    },
    "id": "vqXNZRmMQEqE",
    "outputId": "2522f0af-c21e-48e7-a1de-2d72fe3edc99"
   },
   "outputs": [],
   "source": [
    "def count_frequency(collection):\n",
    "    freq_model = {}\n",
    "    for i in collection:\n",
    "        if i not in freq_model:\n",
    "            freq_model[i] = 1\n",
    "        else:\n",
    "            freq_model[i] += 1\n",
    "  \n",
    "    return freq_model\n",
    "\n",
    "frequencies = count_frequency(collection)"
   ]
  },
  {
   "cell_type": "code",
   "execution_count": 11,
   "id": "d08c70b6",
   "metadata": {
    "colab": {
     "base_uri": "https://localhost:8080/"
    },
    "id": "FtumiHh4UrIw",
    "outputId": "1d34f66c-9d68-4626-afeb-5d785874f5b2"
   },
   "outputs": [
    {
     "name": "stdout",
     "output_type": "stream",
     "text": [
      "('the', 38)\n",
      "('ozone', 18)\n",
      "('of', 18)\n",
      "('in', 12)\n",
      "('to', 12)\n",
      "('a', 10)\n",
      "('layer', 8)\n",
      "('that', 8)\n",
      "('is', 6)\n",
      "('radiation', 6)\n"
     ]
    }
   ],
   "source": [
    "def print_most_frequent(frequencies, n):\n",
    "    a = sorted(frequencies.items(), key=lambda x: x[1], reverse=True)\n",
    "    for i in range(n):\n",
    "        print(a[i])\n",
    "\n",
    "print_most_frequent(frequencies, 10)"
   ]
  },
  {
   "cell_type": "code",
   "execution_count": 12,
   "id": "8b91c9d5",
   "metadata": {
    "colab": {
     "base_uri": "https://localhost:8080/",
     "height": 265
    },
    "id": "lOdgiVUYVgYO",
    "outputId": "002532d4-20d2-4e26-ab24-b039722a8251"
   },
   "outputs": [
    {
     "data": {
      "image/png": "[encoded data removed]",
      "text/plain": [
       "<Figure size 432x288 with 1 Axes>"
      ]
     },
     "metadata": {},
     "output_type": "display_data"
    }
   ],
   "source": [
    "import matplotlib.pyplot as plt\n",
    "\n",
    "def visulalize(frequencies, n):\n",
    "    a = sorted(frequencies.items(), key=lambda x: x[1], reverse=True)\n",
    "    keys = []\n",
    "    values = []\n",
    "    for i in range(n,-1,-1):\n",
    "        keys.append(a[i][0])\n",
    "        values.append(a[i][1])\n",
    "  \n",
    "    plt.style.use('ggplot')\n",
    "    plt.barh(keys, values)\n",
    "    plt.show()\n",
    "\n",
    "visulalize(frequencies, 20)"
   ]
  },
  {
   "cell_type": "code",
   "execution_count": 13,
   "id": "f1734efb",
   "metadata": {
    "colab": {
     "base_uri": "https://localhost:8080/",
     "height": 265
    },
    "id": "Y7hN_1ZTdA9N",
    "outputId": "5ae9341d-ab71-48ec-aa98-97b695be7021"
   },
   "outputs": [
    {
     "data": {
      "image/png": "[encoded data removed]",
      "text/plain": [
       "<Figure size 432x288 with 1 Axes>"
      ]
     },
     "metadata": {},
     "output_type": "display_data"
    }
   ],
   "source": [
    "stop_words = [\"the\", \"a\", \"of\", \"to\", \"in\", \"about\",\n",
    "             \"is\", \"that\", \"and\", \"was\", \"by\", \"from\",\n",
    "             \"other\", \"its\", \"on\", \"nm\", \"or\", \"it\",\n",
    "             \"as\", \"an\", \"with\", \"has\", \"at\", \"per\",\n",
    "             \"being\", \"for\", \"above\", \"which\", \"were\",\n",
    "             \"who\", \"below\", \"be\"]\n",
    "\n",
    "def remove_stop_words(words, stop_words):\n",
    "    return [word for word in words if word not in stop_words]\n",
    "\n",
    "filtered_collection = remove_stop_words(collection, stop_words)\n",
    "filtered_freq = count_frequency(filtered_collection)\n",
    "visulalize(filtered_freq, 25)"
   ]
  },
  {
   "cell_type": "code",
   "execution_count": null,
   "id": "2e4eeb11",
   "metadata": {},
   "outputs": [],
   "source": []
  }
 ],
 "metadata": {
  "colab": {
   "name": "my_mr_clean.ipynb",
   "provenance": []
  },
  "kernelspec": {
   "display_name": "Python 3",
   "language": "python",
   "name": "python3"
  },
  "language_info": {
   "codemirror_mode": {
    "name": "ipython",
    "version": 3
   },
   "file_extension": ".py",
   "mimetype": "text/x-python",
   "name": "python",
   "nbconvert_exporter": "python",
   "pygments_lexer": "ipython3",
   "version": "3.9.4"
  },
  "toc-autonumbering": true
 },
 "nbformat": 4,
 "nbformat_minor": 5
}